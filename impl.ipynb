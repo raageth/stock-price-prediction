{
 "cells": [
  {
   "cell_type": "code",
   "execution_count": 1,
   "metadata": {},
   "outputs": [],
   "source": [
    "import numpy as np\n",
    "import pandas as pd\n",
    "import datetime as dt\n",
    "import matplotlib.pyplot as plt\n",
    "import tensorflow as tf\n",
    "import keras\n",
    "from sklearn.preprocessing import MinMaxScaler\n",
    "from sklearn.metrics import mean_squared_error\n",
    "import yfinance as yf"
   ]
  },
  {
   "cell_type": "markdown",
   "metadata": {},
   "source": [
    "## EDA\n"
   ]
  },
  {
   "cell_type": "code",
   "execution_count": 2,
   "metadata": {},
   "outputs": [
    {
     "name": "stdout",
     "output_type": "stream",
     "text": [
      "[*********************100%***********************]  1 of 1 completed\n",
      "[*********************100%***********************]  1 of 1 completed\n"
     ]
    }
   ],
   "source": [
    "# Fetch data from Yahoo Finance\n",
    "df = yf.download(tickers='NVDA', start='2020-01-01')\n",
    "df_xlk = yf.download(tickers='XLK', start='2020-01-01')"
   ]
  },
  {
   "cell_type": "code",
   "execution_count": null,
   "metadata": {},
   "outputs": [],
   "source": [
    "# Finding correlation between NVDA and XLK ETF\n",
    "fig, ax = plt.subplots()\n",
    "ax.plot(df['Close'], color='purple', label='NVDA')\n",
    "ax.set_xlabel('Date')\n",
    "ax.set_ylabel('NVDA Price')\n",
    "ax.legend(loc='upper left', borderpad=1, fontsize=6)\n",
    "\n",
    "ax2 = ax.twinx()\n",
    "ax2.plot(df_xlk['Close'], color='blue', label='XLK')\n",
    "ax2.set_ylabel('XLK Price')\n",
    "ax2.legend(loc='upper right', borderpad=1, fontsize=6)\n",
    "plt.title('NVDA vs XLK Price')"
   ]
  },
  {
   "cell_type": "markdown",
   "metadata": {},
   "source": [
    "## Prepare Data\n",
    "\n",
    "### Log Returns \n",
    "$\\ln(\\frac{Current Price}{Original Price})$\n",
    "\n",
    "Log returns measure the percentage change in value over time. This allows us to have a good gauge of the general direction of price.\n",
    "\n",
    "### Index Funds\n",
    "Index funds are indicators of the general performance of the sector. For this case, the SMA20 of [SPDR Technology Sector Fund (XLK)](https://finance.yahoo.com/quote/XLK?p=XLK) is used as a gauge for the performance of the tech industry as a whole."
   ]
  },
  {
   "cell_type": "code",
   "execution_count": 3,
   "metadata": {},
   "outputs": [],
   "source": [
    "# GLOBAL VARS\n",
    "NUM_VARS = 7\n",
    "TIMESTEPS = 20\n",
    "DAYS_TO_PRED = 15"
   ]
  },
  {
   "cell_type": "code",
   "execution_count": 4,
   "metadata": {},
   "outputs": [],
   "source": [
    "# Calculate SMA20 for XLK\n",
    "df['xlk_SMA20'] = df_xlk['Adj Close'].rolling(20).mean()\n",
    "\n",
    "# Calculate percentage changes\n",
    "df['log_return'] = np.log(1 + df['Adj Close'].pct_change())\n",
    "\n",
    "# Drop Date and Close column\n",
    "df.dropna(inplace=True)\n",
    "#df.reset_index(inplace=True)\n",
    "df.drop(['Close'], axis=1, inplace=True)\n",
    "\n",
    "# Assign a final df for accessing later\n",
    "output_df = df[TIMESTEPS:]\n"
   ]
  },
  {
   "cell_type": "code",
   "execution_count": 5,
   "metadata": {},
   "outputs": [
    {
     "data": {
      "text/html": [
       "<div>\n",
       "<style scoped>\n",
       "    .dataframe tbody tr th:only-of-type {\n",
       "        vertical-align: middle;\n",
       "    }\n",
       "\n",
       "    .dataframe tbody tr th {\n",
       "        vertical-align: top;\n",
       "    }\n",
       "\n",
       "    .dataframe thead th {\n",
       "        text-align: right;\n",
       "    }\n",
       "</style>\n",
       "<table border=\"1\" class=\"dataframe\">\n",
       "  <thead>\n",
       "    <tr style=\"text-align: right;\">\n",
       "      <th></th>\n",
       "      <th>Open</th>\n",
       "      <th>High</th>\n",
       "      <th>Low</th>\n",
       "      <th>Adj Close</th>\n",
       "      <th>Volume</th>\n",
       "      <th>xlk_SMA20</th>\n",
       "      <th>log_return</th>\n",
       "    </tr>\n",
       "    <tr>\n",
       "      <th>Date</th>\n",
       "      <th></th>\n",
       "      <th></th>\n",
       "      <th></th>\n",
       "      <th></th>\n",
       "      <th></th>\n",
       "      <th></th>\n",
       "      <th></th>\n",
       "    </tr>\n",
       "  </thead>\n",
       "  <tbody>\n",
       "    <tr>\n",
       "      <th>2020-01-30</th>\n",
       "      <td>60.402500</td>\n",
       "      <td>61.587502</td>\n",
       "      <td>59.849998</td>\n",
       "      <td>61.218681</td>\n",
       "      <td>29050400</td>\n",
       "      <td>92.081731</td>\n",
       "      <td>0.001099</td>\n",
       "    </tr>\n",
       "    <tr>\n",
       "      <th>2020-01-31</th>\n",
       "      <td>60.992500</td>\n",
       "      <td>61.112499</td>\n",
       "      <td>58.687500</td>\n",
       "      <td>58.882603</td>\n",
       "      <td>37042000</td>\n",
       "      <td>92.175274</td>\n",
       "      <td>-0.038907</td>\n",
       "    </tr>\n",
       "    <tr>\n",
       "      <th>2020-02-03</th>\n",
       "      <td>58.924999</td>\n",
       "      <td>60.277500</td>\n",
       "      <td>58.862499</td>\n",
       "      <td>59.853893</td>\n",
       "      <td>25556400</td>\n",
       "      <td>92.380200</td>\n",
       "      <td>0.016361</td>\n",
       "    </tr>\n",
       "    <tr>\n",
       "      <th>2020-02-04</th>\n",
       "      <td>61.507500</td>\n",
       "      <td>61.974998</td>\n",
       "      <td>61.005001</td>\n",
       "      <td>61.547432</td>\n",
       "      <td>27154400</td>\n",
       "      <td>92.696510</td>\n",
       "      <td>0.027902</td>\n",
       "    </tr>\n",
       "    <tr>\n",
       "      <th>2020-02-05</th>\n",
       "      <td>62.997501</td>\n",
       "      <td>63.099998</td>\n",
       "      <td>61.852501</td>\n",
       "      <td>62.451469</td>\n",
       "      <td>20822000</td>\n",
       "      <td>93.042715</td>\n",
       "      <td>0.014582</td>\n",
       "    </tr>\n",
       "    <tr>\n",
       "      <th>...</th>\n",
       "      <td>...</td>\n",
       "      <td>...</td>\n",
       "      <td>...</td>\n",
       "      <td>...</td>\n",
       "      <td>...</td>\n",
       "      <td>...</td>\n",
       "      <td>...</td>\n",
       "    </tr>\n",
       "    <tr>\n",
       "      <th>2023-10-13</th>\n",
       "      <td>469.600006</td>\n",
       "      <td>471.160004</td>\n",
       "      <td>452.799988</td>\n",
       "      <td>454.609985</td>\n",
       "      <td>47411500</td>\n",
       "      <td>166.300501</td>\n",
       "      <td>-0.032122</td>\n",
       "    </tr>\n",
       "    <tr>\n",
       "      <th>2023-10-16</th>\n",
       "      <td>450.630005</td>\n",
       "      <td>462.250000</td>\n",
       "      <td>449.119995</td>\n",
       "      <td>460.950012</td>\n",
       "      <td>37509900</td>\n",
       "      <td>166.345501</td>\n",
       "      <td>0.013850</td>\n",
       "    </tr>\n",
       "    <tr>\n",
       "      <th>2023-10-17</th>\n",
       "      <td>440.000000</td>\n",
       "      <td>447.540009</td>\n",
       "      <td>424.799988</td>\n",
       "      <td>439.380005</td>\n",
       "      <td>81233300</td>\n",
       "      <td>166.355502</td>\n",
       "      <td>-0.047925</td>\n",
       "    </tr>\n",
       "    <tr>\n",
       "      <th>2023-10-18</th>\n",
       "      <td>425.910004</td>\n",
       "      <td>432.190002</td>\n",
       "      <td>418.250000</td>\n",
       "      <td>421.959991</td>\n",
       "      <td>62533900</td>\n",
       "      <td>166.411501</td>\n",
       "      <td>-0.040454</td>\n",
       "    </tr>\n",
       "    <tr>\n",
       "      <th>2023-10-19</th>\n",
       "      <td>428.109985</td>\n",
       "      <td>432.969910</td>\n",
       "      <td>422.429993</td>\n",
       "      <td>425.415009</td>\n",
       "      <td>28128857</td>\n",
       "      <td>166.577001</td>\n",
       "      <td>0.008155</td>\n",
       "    </tr>\n",
       "  </tbody>\n",
       "</table>\n",
       "<p>938 rows × 7 columns</p>\n",
       "</div>"
      ],
      "text/plain": [
       "                  Open        High         Low   Adj Close    Volume  \\\n",
       "Date                                                                   \n",
       "2020-01-30   60.402500   61.587502   59.849998   61.218681  29050400   \n",
       "2020-01-31   60.992500   61.112499   58.687500   58.882603  37042000   \n",
       "2020-02-03   58.924999   60.277500   58.862499   59.853893  25556400   \n",
       "2020-02-04   61.507500   61.974998   61.005001   61.547432  27154400   \n",
       "2020-02-05   62.997501   63.099998   61.852501   62.451469  20822000   \n",
       "...                ...         ...         ...         ...       ...   \n",
       "2023-10-13  469.600006  471.160004  452.799988  454.609985  47411500   \n",
       "2023-10-16  450.630005  462.250000  449.119995  460.950012  37509900   \n",
       "2023-10-17  440.000000  447.540009  424.799988  439.380005  81233300   \n",
       "2023-10-18  425.910004  432.190002  418.250000  421.959991  62533900   \n",
       "2023-10-19  428.109985  432.969910  422.429993  425.415009  28128857   \n",
       "\n",
       "             xlk_SMA20  log_return  \n",
       "Date                                \n",
       "2020-01-30   92.081731    0.001099  \n",
       "2020-01-31   92.175274   -0.038907  \n",
       "2020-02-03   92.380200    0.016361  \n",
       "2020-02-04   92.696510    0.027902  \n",
       "2020-02-05   93.042715    0.014582  \n",
       "...                ...         ...  \n",
       "2023-10-13  166.300501   -0.032122  \n",
       "2023-10-16  166.345501    0.013850  \n",
       "2023-10-17  166.355502   -0.047925  \n",
       "2023-10-18  166.411501   -0.040454  \n",
       "2023-10-19  166.577001    0.008155  \n",
       "\n",
       "[938 rows x 7 columns]"
      ]
     },
     "execution_count": 5,
     "metadata": {},
     "output_type": "execute_result"
    }
   ],
   "source": [
    "df"
   ]
  },
  {
   "cell_type": "code",
   "execution_count": 6,
   "metadata": {},
   "outputs": [],
   "source": [
    "# Define function to split data\n",
    "def split(data):\n",
    "    # DAYS_TO_PRED rows will be removed for test data, remaining split 80 20\n",
    "    test_val_len = len(data) - DAYS_TO_PRED\n",
    "    l_80 = int(test_val_len * 0.8)\n",
    "    train_data, val_data, test_data = data[: l_80], data[l_80 : test_val_len], data[test_val_len :]\n",
    "    return train_data, val_data, test_data"
   ]
  },
  {
   "cell_type": "code",
   "execution_count": 7,
   "metadata": {},
   "outputs": [],
   "source": [
    "# Define function to create dataset with timesteps\n",
    "def create_dataset(dataset, timesteps):\n",
    "    x = []\n",
    "    y = []\n",
    "    for i in range(len(dataset) - timesteps):\n",
    "        add_x = dataset[i : i + timesteps] # Slice from 0 - timesteps\n",
    "        add_y = dataset[i + timesteps]\n",
    "\n",
    "        # Extract vars\n",
    "        add_x = [lst for lst in add_x]\n",
    "\n",
    "        x.append(add_x)\n",
    "        y.append(add_y)\n",
    "    return np.array(x), np.array(y)"
   ]
  },
  {
   "cell_type": "code",
   "execution_count": 8,
   "metadata": {},
   "outputs": [
    {
     "data": {
      "text/plain": [
       "((722, 20, 7), (722, 7), (181, 20, 7), (181, 7), (15, 20, 7), (15, 7))"
      ]
     },
     "execution_count": 8,
     "metadata": {},
     "output_type": "execute_result"
    }
   ],
   "source": [
    "# Reshape array\n",
    "#df = np.reshape(df, (-1, 1))\n",
    "\n",
    "# Normalise data\n",
    "scaler = MinMaxScaler(feature_range=(0, 1))\n",
    "df = scaler.fit_transform(df)\n",
    "\n",
    "# Create datasets\n",
    "X_full, y_full = create_dataset(df, TIMESTEPS)\n",
    "\n",
    "# Split data\n",
    "X_train, X_val, X_test = split(X_full)\n",
    "y_train, y_val, y_test = split(y_full)\n",
    "\n",
    "# Shape should be (samples, timesteps, features)\n",
    "X_train.shape, y_train.shape, X_val.shape, y_val.shape, X_test.shape, y_test.shape"
   ]
  },
  {
   "cell_type": "code",
   "execution_count": 12,
   "metadata": {},
   "outputs": [
    {
     "data": {
      "text/plain": [
       "array([[0.02425713, 0.01916477, 0.03041674, 0.02235921, 0.18847228,\n",
       "        0.16629564, 0.39110529],\n",
       "       [0.01968438, 0.01730993, 0.03081052, 0.02454402, 0.10904361,\n",
       "        0.16834176, 0.52205012],\n",
       "       [0.02539617, 0.02108069, 0.03563152, 0.02835342, 0.12009458,\n",
       "        0.17149999, 0.5493936 ],\n",
       "       [0.02869165, 0.02357971, 0.03753854, 0.03038695, 0.07630286,\n",
       "        0.17495673, 0.51783491],\n",
       "       [0.02877459, 0.0246071 , 0.03836548, 0.03234208, 0.08326262,\n",
       "        0.17837495, 0.51603455],\n",
       "       [0.02905105, 0.02420725, 0.03931618, 0.03085193, 0.06353132,\n",
       "        0.18083991, 0.4583681 ],\n",
       "       [0.02897364, 0.02946632, 0.04028938, 0.03722708, 0.29855874,\n",
       "        0.18406074, 0.58810224],\n",
       "       [0.0371681 , 0.03474204, 0.04733804, 0.03998332, 0.37390173,\n",
       "        0.18654979, 0.52720546],\n",
       "       [0.03865549, 0.03490864, 0.04937446, 0.04258823, 0.19139338,\n",
       "        0.18978025, 0.52405895],\n",
       "       [0.03876607, 0.03528628, 0.04974573, 0.04160231, 0.29745779,\n",
       "        0.19282777, 0.46793728],\n",
       "       [0.04819357, 0.04722052, 0.0592471 , 0.05225177, 0.65285088,\n",
       "        0.19547087, 0.64404195],\n",
       "       [0.04729782, 0.04852002, 0.05860579, 0.05604997, 0.36118274,\n",
       "        0.19761809, 0.5380807 ],\n",
       "       [0.05606179, 0.05857167, 0.06796089, 0.06620649, 0.41247363,\n",
       "        0.20036709, 0.62387202],\n",
       "       [0.06229886, 0.05907703, 0.06506943, 0.06284523, 0.49249979,\n",
       "        0.20243246, 0.43767782],\n",
       "       [0.05755471, 0.05290165, 0.06186855, 0.05464948, 0.46354321,\n",
       "        0.20317871, 0.36825325],\n",
       "       [0.03875502, 0.03994557, 0.04912131, 0.04300278, 0.52490859,\n",
       "        0.20216768, 0.30956769],\n",
       "       [0.04213342, 0.03823513, 0.04347337, 0.03671167, 0.6622366 ,\n",
       "        0.2008052 , 0.38386728],\n",
       "       [0.03425967, 0.0363803 , 0.04574605, 0.03984881, 0.4494024 ,\n",
       "        0.19876872, 0.53338472],\n",
       "       [0.03030068, 0.03168768, 0.0383711 , 0.0315024 , 0.55914032,\n",
       "        0.19420468, 0.34758619],\n",
       "       [0.02342221, 0.03471982, 0.03437704, 0.04129502, 0.71600876,\n",
       "        0.1895588 , 0.64173011]])"
      ]
     },
     "execution_count": 12,
     "metadata": {},
     "output_type": "execute_result"
    }
   ],
   "source": [
    "X_train[1]"
   ]
  },
  {
   "cell_type": "code",
   "execution_count": 13,
   "metadata": {},
   "outputs": [
    {
     "data": {
      "text/plain": [
       "array([0.02342221, 0.03471982, 0.03437704, 0.04129502, 0.71600876,\n",
       "       0.1895588 , 0.64173011])"
      ]
     },
     "execution_count": 13,
     "metadata": {},
     "output_type": "execute_result"
    }
   ],
   "source": [
    "y_train[0]"
   ]
  },
  {
   "cell_type": "markdown",
   "metadata": {},
   "source": [
    "### Stacked LSTM Implementation\n",
    "Stacked LSTM allows us to process time series data."
   ]
  },
  {
   "cell_type": "code",
   "execution_count": 9,
   "metadata": {},
   "outputs": [],
   "source": [
    "# GLOBAL VARS\n",
    "EPOCHS = 10\n",
    "INPUT_SHAPE = (TIMESTEPS, NUM_VARS)\n",
    "VALIDATION_SPLIT = 0.1"
   ]
  },
  {
   "cell_type": "code",
   "execution_count": 10,
   "metadata": {},
   "outputs": [
    {
     "name": "stdout",
     "output_type": "stream",
     "text": [
      "WARNING:tensorflow:Layer lstm will not use cuDNN kernels since it doesn't meet the criteria. It will use a generic GPU kernel as fallback when running on GPU.\n",
      "WARNING:tensorflow:Layer lstm_1 will not use cuDNN kernels since it doesn't meet the criteria. It will use a generic GPU kernel as fallback when running on GPU.\n",
      "WARNING:tensorflow:Layer lstm_2 will not use cuDNN kernels since it doesn't meet the criteria. It will use a generic GPU kernel as fallback when running on GPU.\n",
      "WARNING:tensorflow:Layer lstm_3 will not use cuDNN kernels since it doesn't meet the criteria. It will use a generic GPU kernel as fallback when running on GPU.\n"
     ]
    },
    {
     "name": "stdout",
     "output_type": "stream",
     "text": [
      "WARNING:tensorflow:Layer lstm_4 will not use cuDNN kernels since it doesn't meet the criteria. It will use a generic GPU kernel as fallback when running on GPU.\n"
     ]
    },
    {
     "name": "stderr",
     "output_type": "stream",
     "text": [
      "2023-10-20 00:37:11.551899: I metal_plugin/src/device/metal_device.cc:1154] Metal device set to: Apple M1 Pro\n",
      "2023-10-20 00:37:11.551928: I metal_plugin/src/device/metal_device.cc:296] systemMemory: 16.00 GB\n",
      "2023-10-20 00:37:11.551934: I metal_plugin/src/device/metal_device.cc:313] maxCacheSize: 5.33 GB\n",
      "2023-10-20 00:37:11.551973: I tensorflow/core/common_runtime/pluggable_device/pluggable_device_factory.cc:306] Could not identify NUMA node of platform GPU ID 0, defaulting to 0. Your kernel may not have been built with NUMA support.\n",
      "2023-10-20 00:37:11.551992: I tensorflow/core/common_runtime/pluggable_device/pluggable_device_factory.cc:272] Created TensorFlow device (/job:localhost/replica:0/task:0/device:GPU:0 with 0 MB memory) -> physical PluggableDevice (device: 0, name: METAL, pci bus id: <undefined>)\n"
     ]
    },
    {
     "name": "stdout",
     "output_type": "stream",
     "text": [
      "Model: \"sequential\"\n",
      "_________________________________________________________________\n",
      " Layer (type)                Output Shape              Param #   \n",
      "=================================================================\n",
      " lstm (LSTM)                 (None, 20, 64)            18432     \n",
      "                                                                 \n",
      " dropout (Dropout)           (None, 20, 64)            0         \n",
      "                                                                 \n",
      " lstm_1 (LSTM)               (None, 20, 128)           98816     \n",
      "                                                                 \n",
      " dropout_1 (Dropout)         (None, 20, 128)           0         \n",
      "                                                                 \n",
      " lstm_2 (LSTM)               (None, 20, 128)           131584    \n",
      "                                                                 \n",
      " dropout_2 (Dropout)         (None, 20, 128)           0         \n",
      "                                                                 \n",
      " lstm_3 (LSTM)               (None, 20, 64)            49408     \n",
      "                                                                 \n",
      " dropout_3 (Dropout)         (None, 20, 64)            0         \n",
      "                                                                 \n",
      " lstm_4 (LSTM)               (None, 7)                 2016      \n",
      "                                                                 \n",
      "=================================================================\n",
      "Total params: 300256 (1.15 MB)\n",
      "Trainable params: 300256 (1.15 MB)\n",
      "Non-trainable params: 0 (0.00 Byte)\n",
      "_________________________________________________________________\n"
     ]
    }
   ],
   "source": [
    "# Define model\n",
    "model = keras.Sequential([\n",
    "\n",
    "    keras.layers.LSTM(64, return_sequences=True, input_shape=INPUT_SHAPE, activation='relu'),\n",
    "    keras.layers.Dropout(0.2),\n",
    "    keras.layers.LSTM(128, return_sequences=True, activation='relu'),\n",
    "    keras.layers.Dropout(0.2),\n",
    "    keras.layers.LSTM(128, return_sequences=True, activation='relu'),\n",
    "    keras.layers.Dropout(0.2),\n",
    "    keras.layers.LSTM(64, return_sequences=True, activation='relu'),    \n",
    "    keras.layers.Dropout(0.2),\n",
    "    keras.layers.LSTM(NUM_VARS, activation='linear')\n",
    "    #keras.layers.Dense(1)\n",
    "])\n",
    "\n",
    "model.compile(optimizer='adam', loss='mse')\n",
    "model.summary()"
   ]
  },
  {
   "cell_type": "code",
   "execution_count": 11,
   "metadata": {},
   "outputs": [
    {
     "name": "stdout",
     "output_type": "stream",
     "text": [
      "Epoch 1/10\n"
     ]
    },
    {
     "name": "stderr",
     "output_type": "stream",
     "text": [
      "2023-10-20 00:37:16.163145: I tensorflow/core/grappler/optimizers/custom_graph_optimizer_registry.cc:117] Plugin optimizer for device_type GPU is enabled.\n"
     ]
    },
    {
     "name": "stdout",
     "output_type": "stream",
     "text": [
      "12/12 [==============================] - 32s 2s/step - loss: 0.1020 - val_loss: 0.1001\n",
      "Epoch 2/10\n",
      "12/12 [==============================] - 29s 2s/step - loss: 0.0250 - val_loss: 0.0639\n",
      "Epoch 3/10\n",
      "12/12 [==============================] - 30s 2s/step - loss: 0.0151 - val_loss: 0.0493\n",
      "Epoch 4/10\n",
      "12/12 [==============================] - 29s 2s/step - loss: 0.0125 - val_loss: 0.0388\n",
      "Epoch 5/10\n",
      "12/12 [==============================] - 30s 2s/step - loss: 0.0106 - val_loss: 0.0337\n",
      "Epoch 6/10\n",
      "12/12 [==============================] - 32s 3s/step - loss: 0.0093 - val_loss: 0.0348\n",
      "Epoch 7/10\n",
      "12/12 [==============================] - 29s 2s/step - loss: 0.0080 - val_loss: 0.0324\n",
      "Epoch 8/10\n",
      "12/12 [==============================] - 28s 2s/step - loss: 0.0073 - val_loss: 0.0335\n",
      "Epoch 9/10\n",
      "12/12 [==============================] - 28s 2s/step - loss: 0.0067 - val_loss: 0.0275\n",
      "Epoch 10/10\n",
      "12/12 [==============================] - 28s 2s/step - loss: 0.0065 - val_loss: 0.0286\n"
     ]
    },
    {
     "data": {
      "text/plain": [
       "<keras.src.callbacks.History at 0x17be7f850>"
      ]
     },
     "execution_count": 11,
     "metadata": {},
     "output_type": "execute_result"
    }
   ],
   "source": [
    "# Train model\n",
    "model.fit(X_train, y_train, epochs=EPOCHS, validation_data=(X_val, y_val), batch_size=64)"
   ]
  },
  {
   "cell_type": "code",
   "execution_count": 12,
   "metadata": {},
   "outputs": [
    {
     "name": "stdout",
     "output_type": "stream",
     "text": [
      "23/23 [==============================] - 5s 180ms/step\n"
     ]
    }
   ],
   "source": [
    "# Prediction\n",
    "train_predict = model.predict(X_train)\n",
    "#test_predict = model.predict(X_test)\n",
    "\n",
    "# Inverse transform to get original format\n",
    "train_predict = np.reshape(train_predict, (-1, NUM_VARS))\n",
    "#test_predict = np.reshape(test_predict, (-1, 1))\n",
    "train_predict = scaler.inverse_transform(train_predict)\n",
    "#test_predict = scaler.inverse_transform(test_predict)"
   ]
  },
  {
   "cell_type": "code",
   "execution_count": 13,
   "metadata": {},
   "outputs": [],
   "source": [
    "y_train = scaler.inverse_transform(y_train)"
   ]
  },
  {
   "cell_type": "code",
   "execution_count": 14,
   "metadata": {},
   "outputs": [],
   "source": [
    "# Extract close column out\n",
    "train_predict = [lst[3] for lst in train_predict]\n",
    "y_train = [lst[3] for lst in y_train]"
   ]
  },
  {
   "cell_type": "code",
   "execution_count": 16,
   "metadata": {},
   "outputs": [],
   "source": [
    "train_results = pd.DataFrame(data={'Predictions': train_predict, 'Actual': y_train})"
   ]
  },
  {
   "cell_type": "code",
   "execution_count": 17,
   "metadata": {},
   "outputs": [
    {
     "data": {
      "text/html": [
       "<div>\n",
       "<style scoped>\n",
       "    .dataframe tbody tr th:only-of-type {\n",
       "        vertical-align: middle;\n",
       "    }\n",
       "\n",
       "    .dataframe tbody tr th {\n",
       "        vertical-align: top;\n",
       "    }\n",
       "\n",
       "    .dataframe thead th {\n",
       "        text-align: right;\n",
       "    }\n",
       "</style>\n",
       "<table border=\"1\" class=\"dataframe\">\n",
       "  <thead>\n",
       "    <tr style=\"text-align: right;\">\n",
       "      <th></th>\n",
       "      <th>Predictions</th>\n",
       "      <th>Actual</th>\n",
       "    </tr>\n",
       "  </thead>\n",
       "  <tbody>\n",
       "    <tr>\n",
       "      <th>0</th>\n",
       "      <td>66.493828</td>\n",
       "      <td>67.300842</td>\n",
       "    </tr>\n",
       "    <tr>\n",
       "      <th>1</th>\n",
       "      <td>66.259926</td>\n",
       "      <td>68.885750</td>\n",
       "    </tr>\n",
       "    <tr>\n",
       "      <th>2</th>\n",
       "      <td>65.786194</td>\n",
       "      <td>66.259209</td>\n",
       "    </tr>\n",
       "    <tr>\n",
       "      <th>3</th>\n",
       "      <td>65.262726</td>\n",
       "      <td>70.899254</td>\n",
       "    </tr>\n",
       "    <tr>\n",
       "      <th>4</th>\n",
       "      <td>64.710464</td>\n",
       "      <td>68.103249</td>\n",
       "    </tr>\n",
       "    <tr>\n",
       "      <th>...</th>\n",
       "      <td>...</td>\n",
       "      <td>...</td>\n",
       "    </tr>\n",
       "    <tr>\n",
       "      <th>717</th>\n",
       "      <td>149.043121</td>\n",
       "      <td>143.099075</td>\n",
       "    </tr>\n",
       "    <tr>\n",
       "      <th>718</th>\n",
       "      <td>148.055725</td>\n",
       "      <td>147.437561</td>\n",
       "    </tr>\n",
       "    <tr>\n",
       "      <th>719</th>\n",
       "      <td>146.847809</td>\n",
       "      <td>142.599274</td>\n",
       "    </tr>\n",
       "    <tr>\n",
       "      <th>720</th>\n",
       "      <td>145.893555</td>\n",
       "      <td>148.537155</td>\n",
       "    </tr>\n",
       "    <tr>\n",
       "      <th>721</th>\n",
       "      <td>144.772110</td>\n",
       "      <td>156.224426</td>\n",
       "    </tr>\n",
       "  </tbody>\n",
       "</table>\n",
       "<p>722 rows × 2 columns</p>\n",
       "</div>"
      ],
      "text/plain": [
       "     Predictions      Actual\n",
       "0      66.493828   67.300842\n",
       "1      66.259926   68.885750\n",
       "2      65.786194   66.259209\n",
       "3      65.262726   70.899254\n",
       "4      64.710464   68.103249\n",
       "..           ...         ...\n",
       "717   149.043121  143.099075\n",
       "718   148.055725  147.437561\n",
       "719   146.847809  142.599274\n",
       "720   145.893555  148.537155\n",
       "721   144.772110  156.224426\n",
       "\n",
       "[722 rows x 2 columns]"
      ]
     },
     "execution_count": 17,
     "metadata": {},
     "output_type": "execute_result"
    }
   ],
   "source": [
    "train_results"
   ]
  },
  {
   "cell_type": "code",
   "execution_count": 16,
   "metadata": {},
   "outputs": [
    {
     "data": {
      "text/html": [
       "<div>\n",
       "<style scoped>\n",
       "    .dataframe tbody tr th:only-of-type {\n",
       "        vertical-align: middle;\n",
       "    }\n",
       "\n",
       "    .dataframe tbody tr th {\n",
       "        vertical-align: top;\n",
       "    }\n",
       "\n",
       "    .dataframe thead th {\n",
       "        text-align: right;\n",
       "    }\n",
       "</style>\n",
       "<table border=\"1\" class=\"dataframe\">\n",
       "  <thead>\n",
       "    <tr style=\"text-align: right;\">\n",
       "      <th></th>\n",
       "      <th>Predictions</th>\n",
       "      <th>Actual</th>\n",
       "    </tr>\n",
       "  </thead>\n",
       "  <tbody>\n",
       "    <tr>\n",
       "      <th>0</th>\n",
       "      <td>7.668041e+01</td>\n",
       "      <td>6.061500e+01</td>\n",
       "    </tr>\n",
       "    <tr>\n",
       "      <th>1</th>\n",
       "      <td>7.394013e+01</td>\n",
       "      <td>6.811500e+01</td>\n",
       "    </tr>\n",
       "    <tr>\n",
       "      <th>2</th>\n",
       "      <td>7.217123e+01</td>\n",
       "      <td>6.044750e+01</td>\n",
       "    </tr>\n",
       "    <tr>\n",
       "      <th>3</th>\n",
       "      <td>6.974403e+01</td>\n",
       "      <td>6.730083e+01</td>\n",
       "    </tr>\n",
       "    <tr>\n",
       "      <th>4</th>\n",
       "      <td>5.475013e+07</td>\n",
       "      <td>1.133252e+08</td>\n",
       "    </tr>\n",
       "    <tr>\n",
       "      <th>...</th>\n",
       "      <td>...</td>\n",
       "      <td>...</td>\n",
       "    </tr>\n",
       "    <tr>\n",
       "      <th>5049</th>\n",
       "      <td>1.560672e+02</td>\n",
       "      <td>1.514100e+02</td>\n",
       "    </tr>\n",
       "    <tr>\n",
       "      <th>5050</th>\n",
       "      <td>1.626500e+02</td>\n",
       "      <td>1.562244e+02</td>\n",
       "    </tr>\n",
       "    <tr>\n",
       "      <th>5051</th>\n",
       "      <td>4.303546e+07</td>\n",
       "      <td>5.042310e+07</td>\n",
       "    </tr>\n",
       "    <tr>\n",
       "      <th>5052</th>\n",
       "      <td>1.302924e+02</td>\n",
       "      <td>1.256526e+02</td>\n",
       "    </tr>\n",
       "    <tr>\n",
       "      <th>5053</th>\n",
       "      <td>-5.111884e-03</td>\n",
       "      <td>5.045838e-02</td>\n",
       "    </tr>\n",
       "  </tbody>\n",
       "</table>\n",
       "<p>5054 rows × 2 columns</p>\n",
       "</div>"
      ],
      "text/plain": [
       "       Predictions        Actual\n",
       "0     7.668041e+01  6.061500e+01\n",
       "1     7.394013e+01  6.811500e+01\n",
       "2     7.217123e+01  6.044750e+01\n",
       "3     6.974403e+01  6.730083e+01\n",
       "4     5.475013e+07  1.133252e+08\n",
       "...            ...           ...\n",
       "5049  1.560672e+02  1.514100e+02\n",
       "5050  1.626500e+02  1.562244e+02\n",
       "5051  4.303546e+07  5.042310e+07\n",
       "5052  1.302924e+02  1.256526e+02\n",
       "5053 -5.111884e-03  5.045838e-02\n",
       "\n",
       "[5054 rows x 2 columns]"
      ]
     },
     "execution_count": 16,
     "metadata": {},
     "output_type": "execute_result"
    }
   ],
   "source": [
    "# Flatten data\n",
    "# train_results = pd.DataFrame(data={'Predictions': train_predict.flatten(), 'Actual': y_train.flatten()})\n",
    "# train_results"
   ]
  },
  {
   "cell_type": "code",
   "execution_count": 18,
   "metadata": {},
   "outputs": [
    {
     "data": {
      "text/plain": [
       "[<matplotlib.lines.Line2D at 0x28049d450>]"
      ]
     },
     "execution_count": 18,
     "metadata": {},
     "output_type": "execute_result"
    },
    {
     "data": {
      "image/png": "[encoded data removed]",
      "text/plain": [
       "<Figure size 640x480 with 1 Axes>"
      ]
     },
     "metadata": {},
     "output_type": "display_data"
    }
   ],
   "source": [
    "plt.plot(train_results['Predictions'], color = 'red')\n",
    "plt.plot(train_results['Actual'], color = 'green')"
   ]
  },
  {
   "cell_type": "code",
   "execution_count": 19,
   "metadata": {},
   "outputs": [],
   "source": [
    "# Calculate RMSE\n",
    "train_rmse = mean_squared_error(y_train, train_predict, squared=False)"
   ]
  },
  {
   "cell_type": "code",
   "execution_count": 20,
   "metadata": {},
   "outputs": [
    {
     "data": {
      "text/plain": [
       "26.702095187008474"
      ]
     },
     "execution_count": 20,
     "metadata": {},
     "output_type": "execute_result"
    }
   ],
   "source": [
    "train_rmse"
   ]
  },
  {
   "cell_type": "code",
   "execution_count": 51,
   "metadata": {},
   "outputs": [],
   "source": [
    "# Define function to take in number of days of predictions\n",
    "def predict_y(days, data):\n",
    "    # Normalise and reshape data\n",
    "    data = scaler.fit_transform(data)\n",
    "    data = data.reshape(-1, NUM_VARS)\n",
    "\n",
    "    predictions = []\n",
    "    \n",
    "    for i in range(days):\n",
    "        prediction = model.predict(data)\n",
    "        predictions.append(prediction[0])\n",
    "\n",
    "        # Remove first day\n",
    "        data = data[0][1:]\n",
    "\n",
    "        data = np.concatenate([df, prediction], axis=0)\n",
    "    \n",
    "    predictions = scaler.inverse_transform(data)\n",
    "    predictions = pd.DataFrame(predictions)\n",
    "    return predictions\n"
   ]
  },
  {
   "cell_type": "code",
   "execution_count": 52,
   "metadata": {},
   "outputs": [
    {
     "ename": "ValueError",
     "evalue": "Found array with dim 3. MinMaxScaler expected <= 2.",
     "output_type": "error",
     "traceback": [
      "\u001b[0;31m---------------------------------------------------------------------------\u001b[0m",
      "\u001b[0;31mValueError\u001b[0m                                Traceback (most recent call last)",
      "\u001b[1;32m/Users/gareth/Developer/nus-fintech/ml-trainee/projects/stock-price-prediction/impl.ipynb Cell 25\u001b[0m line \u001b[0;36m1\n\u001b[0;32m----> <a href='vscode-notebook-cell:/Users/gareth/Developer/nus-fintech/ml-trainee/projects/stock-price-prediction/impl.ipynb#Y130sZmlsZQ%3D%3D?line=0'>1</a>\u001b[0m predict_y(DAYS_TO_PRED, X_test)\n",
      "\u001b[1;32m/Users/gareth/Developer/nus-fintech/ml-trainee/projects/stock-price-prediction/impl.ipynb Cell 25\u001b[0m line \u001b[0;36m4\n\u001b[1;32m      <a href='vscode-notebook-cell:/Users/gareth/Developer/nus-fintech/ml-trainee/projects/stock-price-prediction/impl.ipynb#Y130sZmlsZQ%3D%3D?line=1'>2</a>\u001b[0m \u001b[39mdef\u001b[39;00m \u001b[39mpredict_y\u001b[39m(days, data):\n\u001b[1;32m      <a href='vscode-notebook-cell:/Users/gareth/Developer/nus-fintech/ml-trainee/projects/stock-price-prediction/impl.ipynb#Y130sZmlsZQ%3D%3D?line=2'>3</a>\u001b[0m     \u001b[39m# Normalise and reshape data\u001b[39;00m\n\u001b[0;32m----> <a href='vscode-notebook-cell:/Users/gareth/Developer/nus-fintech/ml-trainee/projects/stock-price-prediction/impl.ipynb#Y130sZmlsZQ%3D%3D?line=3'>4</a>\u001b[0m     data \u001b[39m=\u001b[39m scaler\u001b[39m.\u001b[39mfit_transform(data)\n\u001b[1;32m      <a href='vscode-notebook-cell:/Users/gareth/Developer/nus-fintech/ml-trainee/projects/stock-price-prediction/impl.ipynb#Y130sZmlsZQ%3D%3D?line=4'>5</a>\u001b[0m     data \u001b[39m=\u001b[39m data\u001b[39m.\u001b[39mreshape(\u001b[39m-\u001b[39m\u001b[39m1\u001b[39m, NUM_VARS)\n\u001b[1;32m      <a href='vscode-notebook-cell:/Users/gareth/Developer/nus-fintech/ml-trainee/projects/stock-price-prediction/impl.ipynb#Y130sZmlsZQ%3D%3D?line=6'>7</a>\u001b[0m     predictions \u001b[39m=\u001b[39m []\n",
      "File \u001b[0;32m~/anaconda3/envs/lstm/lib/python3.11/site-packages/sklearn/utils/_set_output.py:140\u001b[0m, in \u001b[0;36m_wrap_method_output.<locals>.wrapped\u001b[0;34m(self, X, *args, **kwargs)\u001b[0m\n\u001b[1;32m    138\u001b[0m \u001b[39m@wraps\u001b[39m(f)\n\u001b[1;32m    139\u001b[0m \u001b[39mdef\u001b[39;00m \u001b[39mwrapped\u001b[39m(\u001b[39mself\u001b[39m, X, \u001b[39m*\u001b[39margs, \u001b[39m*\u001b[39m\u001b[39m*\u001b[39mkwargs):\n\u001b[0;32m--> 140\u001b[0m     data_to_wrap \u001b[39m=\u001b[39m f(\u001b[39mself\u001b[39m, X, \u001b[39m*\u001b[39margs, \u001b[39m*\u001b[39m\u001b[39m*\u001b[39mkwargs)\n\u001b[1;32m    141\u001b[0m     \u001b[39mif\u001b[39;00m \u001b[39misinstance\u001b[39m(data_to_wrap, \u001b[39mtuple\u001b[39m):\n\u001b[1;32m    142\u001b[0m         \u001b[39m# only wrap the first output for cross decomposition\u001b[39;00m\n\u001b[1;32m    143\u001b[0m         return_tuple \u001b[39m=\u001b[39m (\n\u001b[1;32m    144\u001b[0m             _wrap_data_with_container(method, data_to_wrap[\u001b[39m0\u001b[39m], X, \u001b[39mself\u001b[39m),\n\u001b[1;32m    145\u001b[0m             \u001b[39m*\u001b[39mdata_to_wrap[\u001b[39m1\u001b[39m:],\n\u001b[1;32m    146\u001b[0m         )\n",
      "File \u001b[0;32m~/anaconda3/envs/lstm/lib/python3.11/site-packages/sklearn/base.py:915\u001b[0m, in \u001b[0;36mTransformerMixin.fit_transform\u001b[0;34m(self, X, y, **fit_params)\u001b[0m\n\u001b[1;32m    911\u001b[0m \u001b[39m# non-optimized default implementation; override when a better\u001b[39;00m\n\u001b[1;32m    912\u001b[0m \u001b[39m# method is possible for a given clustering algorithm\u001b[39;00m\n\u001b[1;32m    913\u001b[0m \u001b[39mif\u001b[39;00m y \u001b[39mis\u001b[39;00m \u001b[39mNone\u001b[39;00m:\n\u001b[1;32m    914\u001b[0m     \u001b[39m# fit method of arity 1 (unsupervised transformation)\u001b[39;00m\n\u001b[0;32m--> 915\u001b[0m     \u001b[39mreturn\u001b[39;00m \u001b[39mself\u001b[39m\u001b[39m.\u001b[39mfit(X, \u001b[39m*\u001b[39m\u001b[39m*\u001b[39mfit_params)\u001b[39m.\u001b[39mtransform(X)\n\u001b[1;32m    916\u001b[0m \u001b[39melse\u001b[39;00m:\n\u001b[1;32m    917\u001b[0m     \u001b[39m# fit method of arity 2 (supervised transformation)\u001b[39;00m\n\u001b[1;32m    918\u001b[0m     \u001b[39mreturn\u001b[39;00m \u001b[39mself\u001b[39m\u001b[39m.\u001b[39mfit(X, y, \u001b[39m*\u001b[39m\u001b[39m*\u001b[39mfit_params)\u001b[39m.\u001b[39mtransform(X)\n",
      "File \u001b[0;32m~/anaconda3/envs/lstm/lib/python3.11/site-packages/sklearn/preprocessing/_data.py:434\u001b[0m, in \u001b[0;36mMinMaxScaler.fit\u001b[0;34m(self, X, y)\u001b[0m\n\u001b[1;32m    432\u001b[0m \u001b[39m# Reset internal state before fitting\u001b[39;00m\n\u001b[1;32m    433\u001b[0m \u001b[39mself\u001b[39m\u001b[39m.\u001b[39m_reset()\n\u001b[0;32m--> 434\u001b[0m \u001b[39mreturn\u001b[39;00m \u001b[39mself\u001b[39m\u001b[39m.\u001b[39mpartial_fit(X, y)\n",
      "File \u001b[0;32m~/anaconda3/envs/lstm/lib/python3.11/site-packages/sklearn/base.py:1151\u001b[0m, in \u001b[0;36m_fit_context.<locals>.decorator.<locals>.wrapper\u001b[0;34m(estimator, *args, **kwargs)\u001b[0m\n\u001b[1;32m   1144\u001b[0m     estimator\u001b[39m.\u001b[39m_validate_params()\n\u001b[1;32m   1146\u001b[0m \u001b[39mwith\u001b[39;00m config_context(\n\u001b[1;32m   1147\u001b[0m     skip_parameter_validation\u001b[39m=\u001b[39m(\n\u001b[1;32m   1148\u001b[0m         prefer_skip_nested_validation \u001b[39mor\u001b[39;00m global_skip_validation\n\u001b[1;32m   1149\u001b[0m     )\n\u001b[1;32m   1150\u001b[0m ):\n\u001b[0;32m-> 1151\u001b[0m     \u001b[39mreturn\u001b[39;00m fit_method(estimator, \u001b[39m*\u001b[39margs, \u001b[39m*\u001b[39m\u001b[39m*\u001b[39mkwargs)\n",
      "File \u001b[0;32m~/anaconda3/envs/lstm/lib/python3.11/site-packages/sklearn/preprocessing/_data.py:472\u001b[0m, in \u001b[0;36mMinMaxScaler.partial_fit\u001b[0;34m(self, X, y)\u001b[0m\n\u001b[1;32m    466\u001b[0m     \u001b[39mraise\u001b[39;00m \u001b[39mTypeError\u001b[39;00m(\n\u001b[1;32m    467\u001b[0m         \u001b[39m\"\u001b[39m\u001b[39mMinMaxScaler does not support sparse input. \u001b[39m\u001b[39m\"\u001b[39m\n\u001b[1;32m    468\u001b[0m         \u001b[39m\"\u001b[39m\u001b[39mConsider using MaxAbsScaler instead.\u001b[39m\u001b[39m\"\u001b[39m\n\u001b[1;32m    469\u001b[0m     )\n\u001b[1;32m    471\u001b[0m first_pass \u001b[39m=\u001b[39m \u001b[39mnot\u001b[39;00m \u001b[39mhasattr\u001b[39m(\u001b[39mself\u001b[39m, \u001b[39m\"\u001b[39m\u001b[39mn_samples_seen_\u001b[39m\u001b[39m\"\u001b[39m)\n\u001b[0;32m--> 472\u001b[0m X \u001b[39m=\u001b[39m \u001b[39mself\u001b[39m\u001b[39m.\u001b[39m_validate_data(\n\u001b[1;32m    473\u001b[0m     X,\n\u001b[1;32m    474\u001b[0m     reset\u001b[39m=\u001b[39mfirst_pass,\n\u001b[1;32m    475\u001b[0m     dtype\u001b[39m=\u001b[39mFLOAT_DTYPES,\n\u001b[1;32m    476\u001b[0m     force_all_finite\u001b[39m=\u001b[39m\u001b[39m\"\u001b[39m\u001b[39mallow-nan\u001b[39m\u001b[39m\"\u001b[39m,\n\u001b[1;32m    477\u001b[0m )\n\u001b[1;32m    479\u001b[0m data_min \u001b[39m=\u001b[39m np\u001b[39m.\u001b[39mnanmin(X, axis\u001b[39m=\u001b[39m\u001b[39m0\u001b[39m)\n\u001b[1;32m    480\u001b[0m data_max \u001b[39m=\u001b[39m np\u001b[39m.\u001b[39mnanmax(X, axis\u001b[39m=\u001b[39m\u001b[39m0\u001b[39m)\n",
      "File \u001b[0;32m~/anaconda3/envs/lstm/lib/python3.11/site-packages/sklearn/base.py:604\u001b[0m, in \u001b[0;36mBaseEstimator._validate_data\u001b[0;34m(self, X, y, reset, validate_separately, cast_to_ndarray, **check_params)\u001b[0m\n\u001b[1;32m    602\u001b[0m         out \u001b[39m=\u001b[39m X, y\n\u001b[1;32m    603\u001b[0m \u001b[39melif\u001b[39;00m \u001b[39mnot\u001b[39;00m no_val_X \u001b[39mand\u001b[39;00m no_val_y:\n\u001b[0;32m--> 604\u001b[0m     out \u001b[39m=\u001b[39m check_array(X, input_name\u001b[39m=\u001b[39m\u001b[39m\"\u001b[39m\u001b[39mX\u001b[39m\u001b[39m\"\u001b[39m, \u001b[39m*\u001b[39m\u001b[39m*\u001b[39mcheck_params)\n\u001b[1;32m    605\u001b[0m \u001b[39melif\u001b[39;00m no_val_X \u001b[39mand\u001b[39;00m \u001b[39mnot\u001b[39;00m no_val_y:\n\u001b[1;32m    606\u001b[0m     out \u001b[39m=\u001b[39m _check_y(y, \u001b[39m*\u001b[39m\u001b[39m*\u001b[39mcheck_params)\n",
      "File \u001b[0;32m~/anaconda3/envs/lstm/lib/python3.11/site-packages/sklearn/utils/validation.py:953\u001b[0m, in \u001b[0;36mcheck_array\u001b[0;34m(array, accept_sparse, accept_large_sparse, dtype, order, copy, force_all_finite, ensure_2d, allow_nd, ensure_min_samples, ensure_min_features, estimator, input_name)\u001b[0m\n\u001b[1;32m    948\u001b[0m     \u001b[39mraise\u001b[39;00m \u001b[39mValueError\u001b[39;00m(\n\u001b[1;32m    949\u001b[0m         \u001b[39m\"\u001b[39m\u001b[39mdtype=\u001b[39m\u001b[39m'\u001b[39m\u001b[39mnumeric\u001b[39m\u001b[39m'\u001b[39m\u001b[39m is not compatible with arrays of bytes/strings.\u001b[39m\u001b[39m\"\u001b[39m\n\u001b[1;32m    950\u001b[0m         \u001b[39m\"\u001b[39m\u001b[39mConvert your data to numeric values explicitly instead.\u001b[39m\u001b[39m\"\u001b[39m\n\u001b[1;32m    951\u001b[0m     )\n\u001b[1;32m    952\u001b[0m \u001b[39mif\u001b[39;00m \u001b[39mnot\u001b[39;00m allow_nd \u001b[39mand\u001b[39;00m array\u001b[39m.\u001b[39mndim \u001b[39m>\u001b[39m\u001b[39m=\u001b[39m \u001b[39m3\u001b[39m:\n\u001b[0;32m--> 953\u001b[0m     \u001b[39mraise\u001b[39;00m \u001b[39mValueError\u001b[39;00m(\n\u001b[1;32m    954\u001b[0m         \u001b[39m\"\u001b[39m\u001b[39mFound array with dim \u001b[39m\u001b[39m%d\u001b[39;00m\u001b[39m. \u001b[39m\u001b[39m%s\u001b[39;00m\u001b[39m expected <= 2.\u001b[39m\u001b[39m\"\u001b[39m\n\u001b[1;32m    955\u001b[0m         \u001b[39m%\u001b[39m (array\u001b[39m.\u001b[39mndim, estimator_name)\n\u001b[1;32m    956\u001b[0m     )\n\u001b[1;32m    958\u001b[0m \u001b[39mif\u001b[39;00m force_all_finite:\n\u001b[1;32m    959\u001b[0m     _assert_all_finite(\n\u001b[1;32m    960\u001b[0m         array,\n\u001b[1;32m    961\u001b[0m         input_name\u001b[39m=\u001b[39minput_name,\n\u001b[1;32m    962\u001b[0m         estimator_name\u001b[39m=\u001b[39mestimator_name,\n\u001b[1;32m    963\u001b[0m         allow_nan\u001b[39m=\u001b[39mforce_all_finite \u001b[39m==\u001b[39m \u001b[39m\"\u001b[39m\u001b[39mallow-nan\u001b[39m\u001b[39m\"\u001b[39m,\n\u001b[1;32m    964\u001b[0m     )\n",
      "\u001b[0;31mValueError\u001b[0m: Found array with dim 3. MinMaxScaler expected <= 2."
     ]
    }
   ],
   "source": [
    "predict_y(DAYS_TO_PRED, X_test)"
   ]
  },
  {
   "cell_type": "code",
   "execution_count": 46,
   "metadata": {},
   "outputs": [
    {
     "data": {
      "text/html": [
       "<div>\n",
       "<style scoped>\n",
       "    .dataframe tbody tr th:only-of-type {\n",
       "        vertical-align: middle;\n",
       "    }\n",
       "\n",
       "    .dataframe tbody tr th {\n",
       "        vertical-align: top;\n",
       "    }\n",
       "\n",
       "    .dataframe thead th {\n",
       "        text-align: right;\n",
       "    }\n",
       "</style>\n",
       "<table border=\"1\" class=\"dataframe\">\n",
       "  <thead>\n",
       "    <tr style=\"text-align: right;\">\n",
       "      <th></th>\n",
       "      <th>Open</th>\n",
       "      <th>High</th>\n",
       "      <th>Low</th>\n",
       "      <th>Close</th>\n",
       "      <th>Adj Close</th>\n",
       "      <th>Volume</th>\n",
       "    </tr>\n",
       "    <tr>\n",
       "      <th>Date</th>\n",
       "      <th></th>\n",
       "      <th></th>\n",
       "      <th></th>\n",
       "      <th></th>\n",
       "      <th></th>\n",
       "      <th></th>\n",
       "    </tr>\n",
       "  </thead>\n",
       "  <tbody>\n",
       "    <tr>\n",
       "      <th>2020-01-31</th>\n",
       "      <td>60.992500</td>\n",
       "      <td>61.112499</td>\n",
       "      <td>58.687500</td>\n",
       "      <td>59.107498</td>\n",
       "      <td>58.882599</td>\n",
       "      <td>37042000</td>\n",
       "    </tr>\n",
       "    <tr>\n",
       "      <th>2020-02-03</th>\n",
       "      <td>58.924999</td>\n",
       "      <td>60.277500</td>\n",
       "      <td>58.862499</td>\n",
       "      <td>60.082500</td>\n",
       "      <td>59.853897</td>\n",
       "      <td>25556400</td>\n",
       "    </tr>\n",
       "    <tr>\n",
       "      <th>2020-02-04</th>\n",
       "      <td>61.507500</td>\n",
       "      <td>61.974998</td>\n",
       "      <td>61.005001</td>\n",
       "      <td>61.782501</td>\n",
       "      <td>61.547432</td>\n",
       "      <td>27154400</td>\n",
       "    </tr>\n",
       "    <tr>\n",
       "      <th>2020-02-05</th>\n",
       "      <td>62.997501</td>\n",
       "      <td>63.099998</td>\n",
       "      <td>61.852501</td>\n",
       "      <td>62.689999</td>\n",
       "      <td>62.451469</td>\n",
       "      <td>20822000</td>\n",
       "    </tr>\n",
       "    <tr>\n",
       "      <th>2020-02-06</th>\n",
       "      <td>63.035000</td>\n",
       "      <td>63.562500</td>\n",
       "      <td>62.220001</td>\n",
       "      <td>63.562500</td>\n",
       "      <td>63.320648</td>\n",
       "      <td>21828400</td>\n",
       "    </tr>\n",
       "    <tr>\n",
       "      <th>...</th>\n",
       "      <td>...</td>\n",
       "      <td>...</td>\n",
       "      <td>...</td>\n",
       "      <td>...</td>\n",
       "      <td>...</td>\n",
       "      <td>...</td>\n",
       "    </tr>\n",
       "    <tr>\n",
       "      <th>2023-10-12</th>\n",
       "      <td>467.769989</td>\n",
       "      <td>476.089996</td>\n",
       "      <td>463.299988</td>\n",
       "      <td>469.450012</td>\n",
       "      <td>469.450012</td>\n",
       "      <td>48132500</td>\n",
       "    </tr>\n",
       "    <tr>\n",
       "      <th>2023-10-13</th>\n",
       "      <td>469.600006</td>\n",
       "      <td>471.160004</td>\n",
       "      <td>452.799988</td>\n",
       "      <td>454.609985</td>\n",
       "      <td>454.609985</td>\n",
       "      <td>47411500</td>\n",
       "    </tr>\n",
       "    <tr>\n",
       "      <th>2023-10-16</th>\n",
       "      <td>450.630005</td>\n",
       "      <td>462.250000</td>\n",
       "      <td>449.119995</td>\n",
       "      <td>460.950012</td>\n",
       "      <td>460.950012</td>\n",
       "      <td>37509900</td>\n",
       "    </tr>\n",
       "    <tr>\n",
       "      <th>2023-10-17</th>\n",
       "      <td>440.000000</td>\n",
       "      <td>447.540009</td>\n",
       "      <td>424.799988</td>\n",
       "      <td>439.380005</td>\n",
       "      <td>439.380005</td>\n",
       "      <td>81233300</td>\n",
       "    </tr>\n",
       "    <tr>\n",
       "      <th>2023-10-18</th>\n",
       "      <td>425.910004</td>\n",
       "      <td>432.190002</td>\n",
       "      <td>418.250000</td>\n",
       "      <td>421.959991</td>\n",
       "      <td>421.959991</td>\n",
       "      <td>62533900</td>\n",
       "    </tr>\n",
       "  </tbody>\n",
       "</table>\n",
       "<p>936 rows × 6 columns</p>\n",
       "</div>"
      ],
      "text/plain": [
       "                  Open        High         Low       Close   Adj Close  \\\n",
       "Date                                                                     \n",
       "2020-01-31   60.992500   61.112499   58.687500   59.107498   58.882599   \n",
       "2020-02-03   58.924999   60.277500   58.862499   60.082500   59.853897   \n",
       "2020-02-04   61.507500   61.974998   61.005001   61.782501   61.547432   \n",
       "2020-02-05   62.997501   63.099998   61.852501   62.689999   62.451469   \n",
       "2020-02-06   63.035000   63.562500   62.220001   63.562500   63.320648   \n",
       "...                ...         ...         ...         ...         ...   \n",
       "2023-10-12  467.769989  476.089996  463.299988  469.450012  469.450012   \n",
       "2023-10-13  469.600006  471.160004  452.799988  454.609985  454.609985   \n",
       "2023-10-16  450.630005  462.250000  449.119995  460.950012  460.950012   \n",
       "2023-10-17  440.000000  447.540009  424.799988  439.380005  439.380005   \n",
       "2023-10-18  425.910004  432.190002  418.250000  421.959991  421.959991   \n",
       "\n",
       "              Volume  \n",
       "Date                  \n",
       "2020-01-31  37042000  \n",
       "2020-02-03  25556400  \n",
       "2020-02-04  27154400  \n",
       "2020-02-05  20822000  \n",
       "2020-02-06  21828400  \n",
       "...              ...  \n",
       "2023-10-12  48132500  \n",
       "2023-10-13  47411500  \n",
       "2023-10-16  37509900  \n",
       "2023-10-17  81233300  \n",
       "2023-10-18  62533900  \n",
       "\n",
       "[936 rows x 6 columns]"
      ]
     },
     "execution_count": 46,
     "metadata": {},
     "output_type": "execute_result"
    }
   ],
   "source": [
    "output_df"
   ]
  }
 ],
 "metadata": {
  "kernelspec": {
   "display_name": "lstm",
   "language": "python",
   "name": "python3"
  },
  "language_info": {
   "codemirror_mode": {
    "name": "ipython",
    "version": 3
   },
   "file_extension": ".py",
   "mimetype": "text/x-python",
   "name": "python",
   "nbconvert_exporter": "python",
   "pygments_lexer": "ipython3",
   "version": "3.11.5"
  }
 },
 "nbformat": 4,
 "nbformat_minor": 2
}
